{
 "cells": [
  {
   "cell_type": "markdown",
   "id": "9c80b59d-add1-4c68-a734-8ca2d3500c66",
   "metadata": {},
   "source": [
    "print 0 to 20 by using range "
   ]
  },
  {
   "cell_type": "code",
   "execution_count": 5,
   "id": "0320d45d-343f-4534-8635-35389c689eba",
   "metadata": {},
   "outputs": [
    {
     "name": "stdout",
     "output_type": "stream",
     "text": [
      "0\n",
      "1\n",
      "2\n",
      "3\n",
      "4\n",
      "5\n",
      "6\n",
      "7\n",
      "8\n",
      "9\n",
      "10\n",
      "11\n",
      "12\n",
      "13\n",
      "14\n",
      "15\n",
      "16\n",
      "17\n",
      "18\n",
      "19\n"
     ]
    }
   ],
   "source": [
    "for a in range(0,20):\n",
    "    print(a)"
   ]
  },
  {
   "cell_type": "markdown",
   "id": "4ccad784-105a-408d-bc81-c2587d7f46e8",
   "metadata": {},
   "source": [
    "print 10 to 20  horizontal "
   ]
  },
  {
   "cell_type": "code",
   "execution_count": 8,
   "id": "2e7c9885-8e86-4044-973a-36063f475ebb",
   "metadata": {},
   "outputs": [
    {
     "name": "stdout",
     "output_type": "stream",
     "text": [
      "10 11 12 13 14 15 16 17 18 19 "
     ]
    }
   ],
   "source": [
    "for a in range(10,20):\n",
    "    print(a,\"\", end='')"
   ]
  },
  {
   "cell_type": "markdown",
   "id": "94e4f768-abbc-465b-9363-eac454eae30f",
   "metadata": {},
   "source": [
    "print number of items in the list by using 'len'"
   ]
  },
  {
   "cell_type": "code",
   "execution_count": 10,
   "id": "d6b9fa36-6775-41b5-a19d-b61f81dd848b",
   "metadata": {},
   "outputs": [
    {
     "name": "stdout",
     "output_type": "stream",
     "text": [
      "[10, 20, 14, 55, 43, 87, 76]\n",
      "Number of item in the lists :\n",
      "7\n"
     ]
    }
   ],
   "source": [
    "lists=[10,20,14,55,43,87,76]\n",
    "print(lists)\n",
    "print(\"Number of item in the lists :\")\n",
    "print(len(lists))"
   ]
  },
  {
   "cell_type": "markdown",
   "id": "77a92440-2dc6-4d55-a984-6d39b8c1afbc",
   "metadata": {},
   "source": [
    "print statement"
   ]
  },
  {
   "cell_type": "code",
   "execution_count": 11,
   "id": "f832e439-2b01-46dd-8cfb-5e04971cb980",
   "metadata": {},
   "outputs": [
    {
     "name": "stdout",
     "output_type": "stream",
     "text": [
      "ARITIFICAL INTELLIGENCE\n",
      "A\n",
      "R\n",
      "I\n",
      "T\n",
      "I\n",
      "F\n",
      "I\n",
      "C\n",
      "A\n",
      "L\n",
      " \n",
      "I\n",
      "N\n",
      "T\n",
      "E\n",
      "L\n",
      "L\n",
      "I\n",
      "G\n",
      "E\n",
      "N\n",
      "C\n",
      "E\n"
     ]
    }
   ],
   "source": [
    "a=\"ARITIFICAL INTELLIGENCE\"\n",
    "print(a)\n",
    "for b in a:\n",
    "    print(b)"
   ]
  },
  {
   "cell_type": "code",
   "execution_count": 12,
   "id": "df4d435b-6098-4533-becf-6586a890967b",
   "metadata": {},
   "outputs": [
    {
     "name": "stdin",
     "output_type": "stream",
     "text": [
      "Enter your name mavin\n",
      "Enter your age 21\n",
      "Enter your profession ai\n"
     ]
    },
    {
     "name": "stdout",
     "output_type": "stream",
     "text": [
      "your name  mavin\n",
      "your age  21\n",
      "your profession ai\n"
     ]
    }
   ],
   "source": [
    "a=input(\"Enter your name\")\n",
    "b=input(\"Enter your age\")\n",
    "c=input(\"Enter your profession\")\n",
    "print(\"your name \",a)\n",
    "print(\"your age \" ,b)\n",
    "print(\"your profession\",c)"
   ]
  },
  {
   "cell_type": "markdown",
   "id": "25611606-ad77-4998-aaed-ed9046bba00d",
   "metadata": {},
   "source": [
    "print mixered datatype using Tuples"
   ]
  },
  {
   "cell_type": "code",
   "execution_count": 16,
   "id": "a157e1e9-b049-47ef-a707-2c13954ee96f",
   "metadata": {},
   "outputs": [
    {
     "name": "stdout",
     "output_type": "stream",
     "text": [
      "(1, 'Welcome', 2, 'python')\n",
      "(0, 1, 2, 3, 4)\n",
      "((0, 1, 2, 3), ('python', 'HOPE'))\n"
     ]
    }
   ],
   "source": [
    "a=(1,'Welcome',2,'python')\n",
    "print(a)\n",
    "b=(0,1,2,3,4)\n",
    "print(b)\n",
    "c=((0,1,2,3),('python','HOPE'))\n",
    "print(c)"
   ]
  },
  {
   "cell_type": "markdown",
   "id": "715d4f13-d77d-44c0-b187-ad1686c67566",
   "metadata": {},
   "source": [
    "print Odd numbers in the list"
   ]
  },
  {
   "cell_type": "code",
   "execution_count": 17,
   "id": "6be9e897-cdc1-400c-8935-199fb785f7a9",
   "metadata": {},
   "outputs": [
    {
     "name": "stdout",
     "output_type": "stream",
     "text": [
      "19 is odd number\n",
      "25 is odd number\n",
      "1 is odd number\n"
     ]
    }
   ],
   "source": [
    "a=[20,10,16,19,25,1,276,188]\n",
    "for b in a:\n",
    "    if b%2==1:\n",
    "        print(b,\"is odd number\")"
   ]
  },
  {
   "cell_type": "markdown",
   "id": "056b766c-cca3-4003-b4c7-0103477097c7",
   "metadata": {},
   "source": [
    "print Even number in the list"
   ]
  },
  {
   "cell_type": "code",
   "execution_count": 18,
   "id": "2e77f1b3-7ad2-493f-bfcf-30d1357bb397",
   "metadata": {},
   "outputs": [
    {
     "name": "stdout",
     "output_type": "stream",
     "text": [
      "20 is Even number\n",
      "10 is Even number\n",
      "16 is Even number\n",
      "276 is Even number\n",
      "188 is Even number\n"
     ]
    }
   ],
   "source": [
    "a=[20,10,16,19,25,1,276,188]\n",
    "for b in a:\n",
    "    if b%2==0:\n",
    "        print(b,\"is Even number\")"
   ]
  },
  {
   "cell_type": "code",
   "execution_count": null,
   "id": "8b36f83c-215b-4f2c-9ede-6a9f28bd2e7c",
   "metadata": {},
   "outputs": [],
   "source": []
  }
 ],
 "metadata": {
  "kernelspec": {
   "display_name": "Python 3 (ipykernel)",
   "language": "python",
   "name": "python3"
  },
  "language_info": {
   "codemirror_mode": {
    "name": "ipython",
    "version": 3
   },
   "file_extension": ".py",
   "mimetype": "text/x-python",
   "name": "python",
   "nbconvert_exporter": "python",
   "pygments_lexer": "ipython3",
   "version": "3.12.7"
  }
 },
 "nbformat": 4,
 "nbformat_minor": 5
}
