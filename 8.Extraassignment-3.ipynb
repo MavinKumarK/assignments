{
 "cells": [
  {
   "cell_type": "markdown",
   "id": "6c404086-3ed7-43f3-a545-f55074894de5",
   "metadata": {},
   "source": [
    "print 'CORRECT' if i==10"
   ]
  },
  {
   "cell_type": "code",
   "execution_count": 5,
   "id": "3ccca53b-0549-46d0-80e8-bef8391948f2",
   "metadata": {},
   "outputs": [
    {
     "name": "stdout",
     "output_type": "stream",
     "text": [
      "value : 10\n",
      "correct\n"
     ]
    }
   ],
   "source": [
    "lists=[0,1,2,3,4,5,6,10]\n",
    "for i in lists:\n",
    "   if i==10:\n",
    "      print('value :',i)\n",
    "      print('correct')"
   ]
  },
  {
   "cell_type": "markdown",
   "id": "c1a8b13d-98c0-4a5e-b9c9-f7eb9f195e6e",
   "metadata": {},
   "source": [
    "check the password using if and else"
   ]
  },
  {
   "cell_type": "code",
   "execution_count": 12,
   "id": "41c4ccbf-d32b-4e72-83c8-ec72300cd3a0",
   "metadata": {
    "scrolled": true
   },
   "outputs": [
    {
     "name": "stdin",
     "output_type": "stream",
     "text": [
      "Enter your name MAVIN\n",
      "Enter your password HOPE@123\n"
     ]
    },
    {
     "name": "stdout",
     "output_type": "stream",
     "text": [
      "HOPE@123\n",
      "Your password is CORRECT\n"
     ]
    }
   ],
   "source": [
    "name=input(\"Enter your name\")\n",
    "pas=input(\"Enter your password\")\n",
    "print(pas)\n",
    "if pas==\"HOPE@123\":\n",
    "    print(\"Your password is CORRECT\")\n",
    "else:\n",
    "    print(\"Your password is WORNG\")"
   ]
  },
  {
   "cell_type": "code",
   "execution_count": 2,
   "id": "d4a184c6-1d48-45f7-9a53-156713d00856",
   "metadata": {},
   "outputs": [
    {
     "name": "stdin",
     "output_type": "stream",
     "text": [
      "Enter your age 23\n"
     ]
    },
    {
     "name": "stdout",
     "output_type": "stream",
     "text": [
      "You are Adult\n"
     ]
    }
   ],
   "source": [
    "age=int(input(\"Enter your age\"))\n",
    "if(age<18):\n",
    "    print(\"You are Child\")\n",
    "elif(age<35):\n",
    "    print(\"You are Adult\")\n",
    "elif(age<59):\n",
    "    print(\"You are citizen\")\n",
    "else:\n",
    "    print(\"You are a senior citizen\")"
   ]
  },
  {
   "cell_type": "code",
   "execution_count": null,
   "id": "27af83b3-31ab-4dd4-af7b-8624cab4bb27",
   "metadata": {},
   "outputs": [],
   "source": [
    "num=int(input(\"Enter any number\"))\n",
    "if(num>=0):\n",
    "    print(\"number is positive\")\n",
    "else:\n",
    "    print(\"number is negative\")"
   ]
  },
  {
   "cell_type": "code",
   "execution_count": 8,
   "id": "eff7f247-239a-4d54-8c9e-a76702feb979",
   "metadata": {},
   "outputs": [
    {
     "name": "stdin",
     "output_type": "stream",
     "text": [
      "Enter any number 80\n"
     ]
    },
    {
     "name": "stdout",
     "output_type": "stream",
     "text": [
      "number is divisible 5\n"
     ]
    }
   ],
   "source": [
    "num=int(input(\"Enter any number\"))\n",
    "if(num%5==0):\n",
    "    print(\"number is divisible 5\")\n",
    "else:\n",
    "    print(\"number is not divisible 5\")"
   ]
  },
  {
   "cell_type": "code",
   "execution_count": null,
   "id": "c218d518-1016-46ce-964b-ce52d13cb365",
   "metadata": {},
   "outputs": [],
   "source": []
  },
  {
   "cell_type": "code",
   "execution_count": null,
   "id": "be5d4221-3b35-4168-850b-01d442c05913",
   "metadata": {},
   "outputs": [],
   "source": []
  }
 ],
 "metadata": {
  "kernelspec": {
   "display_name": "Python 3 (ipykernel)",
   "language": "python",
   "name": "python3"
  },
  "language_info": {
   "codemirror_mode": {
    "name": "ipython",
    "version": 3
   },
   "file_extension": ".py",
   "mimetype": "text/x-python",
   "name": "python",
   "nbconvert_exporter": "python",
   "pygments_lexer": "ipython3",
   "version": "3.12.7"
  }
 },
 "nbformat": 4,
 "nbformat_minor": 5
}
