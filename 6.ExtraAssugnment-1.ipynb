{
 "cells": [
  {
   "cell_type": "markdown",
   "id": "d979dc5f-fac0-4865-ab19-115363079787",
   "metadata": {},
   "source": [
    "Print Statement"
   ]
  },
  {
   "cell_type": "code",
   "execution_count": 1,
   "id": "236849ff-5d15-407c-a6d1-3490d14d8ec0",
   "metadata": {},
   "outputs": [
    {
     "name": "stdout",
     "output_type": "stream",
     "text": [
      "HOPE AI\n"
     ]
    }
   ],
   "source": [
    "print(\"HOPE AI\")"
   ]
  },
  {
   "cell_type": "markdown",
   "id": "d4d83043-3bc4-4b04-a48b-0f8785f2a4d5",
   "metadata": {},
   "source": [
    "Get Input"
   ]
  },
  {
   "cell_type": "code",
   "execution_count": 3,
   "id": "23a5ae17-45bf-45b7-801b-16cc203f2b00",
   "metadata": {},
   "outputs": [
    {
     "name": "stdin",
     "output_type": "stream",
     "text": [
      "Enter your institute name? : mavin\n"
     ]
    },
    {
     "name": "stdout",
     "output_type": "stream",
     "text": [
      "mavin\n"
     ]
    }
   ],
   "source": [
    "name=input(\"Enter your institute name? :\")\n",
    "print(name)"
   ]
  },
  {
   "cell_type": "markdown",
   "id": "c16e9a2d-aa6a-4425-a9dd-935f8e9d121a",
   "metadata": {},
   "source": [
    "Get Inputs"
   ]
  },
  {
   "cell_type": "code",
   "execution_count": 4,
   "id": "84552932-a881-4e24-b5e7-112fcf12c93f",
   "metadata": {},
   "outputs": [
    {
     "name": "stdin",
     "output_type": "stream",
     "text": [
      "Enter your name : name\n",
      "Enter your age : 21\n",
      "Enter your school name : sri krishna arts and science college\n",
      "Enter your degree : msc information technology\n"
     ]
    },
    {
     "name": "stdout",
     "output_type": "stream",
     "text": [
      "name\n",
      "21\n",
      "sri krishna arts and science college\n",
      "msc information technology\n"
     ]
    }
   ],
   "source": [
    "name=input(\"Enter your name :\")\n",
    "age=int(input(\"Enter your age :\"))\n",
    "sclname=input(\"Enter your school name :\")\n",
    "degree=input(\"Enter your degree :\" )\n",
    "print(name)\n",
    "print(age)\n",
    "print(sclname)\n",
    "print(degree)"
   ]
  },
  {
   "cell_type": "markdown",
   "id": "44a44e0d-35b1-4a66-b44e-f0c403ca8979",
   "metadata": {},
   "source": [
    "Addition"
   ]
  },
  {
   "cell_type": "code",
   "execution_count": 5,
   "id": "6fcba52f-ec5f-4861-a0c2-0103642bbea5",
   "metadata": {},
   "outputs": [
    {
     "name": "stdin",
     "output_type": "stream",
     "text": [
      "Enter a number 43\n",
      "Enter a number 34\n"
     ]
    },
    {
     "name": "stdout",
     "output_type": "stream",
     "text": [
      "43\n",
      "34\n",
      "Addirion 77\n"
     ]
    }
   ],
   "source": [
    "a=int(input(\"Enter a number\"))\n",
    "b=int(input(\"Enter a number\"))\n",
    "add=a+b\n",
    "print(a)\n",
    "print(b)\n",
    "print(\"Addirion\",add)"
   ]
  },
  {
   "cell_type": "markdown",
   "id": "2f93cb1d-9455-49ee-af9f-29d36f2cc50b",
   "metadata": {},
   "source": [
    "Subtraction"
   ]
  },
  {
   "cell_type": "code",
   "execution_count": 6,
   "id": "62f0c75a-4a12-451e-8d8d-c0e17c30b97a",
   "metadata": {},
   "outputs": [
    {
     "name": "stdin",
     "output_type": "stream",
     "text": [
      "Enter a number 43\n",
      "Enter a number 34\n"
     ]
    },
    {
     "name": "stdout",
     "output_type": "stream",
     "text": [
      "43\n",
      "34\n",
      "Subtraction 9\n"
     ]
    }
   ],
   "source": [
    "a=int(input(\"Enter a number\"))\n",
    "b=int(input(\"Enter a number\"))\n",
    "sub=a-b\n",
    "print(a)\n",
    "print(b)\n",
    "print(\"Subtraction\",sub)"
   ]
  },
  {
   "cell_type": "markdown",
   "id": "a34b14d3-45f4-433f-8748-554557b63b67",
   "metadata": {},
   "source": [
    "Multiplication"
   ]
  },
  {
   "cell_type": "code",
   "execution_count": 7,
   "id": "47050932-5aca-40f9-946e-40eef0005a18",
   "metadata": {},
   "outputs": [
    {
     "name": "stdin",
     "output_type": "stream",
     "text": [
      "Enter a number  63\n",
      "Enter a number 97\n"
     ]
    },
    {
     "name": "stdout",
     "output_type": "stream",
     "text": [
      "63\n",
      "97\n",
      "Multiplication 6111\n"
     ]
    }
   ],
   "source": [
    "a=int(input(\"Enter a number \"))\n",
    "b=int(input(\"Enter a number\" ))\n",
    "mul=a*b\n",
    "print(a)\n",
    "print(b)\n",
    "print(\"Multiplication\",mul)"
   ]
  },
  {
   "cell_type": "markdown",
   "id": "40fa987a-d8e6-46b0-b663-b6faf019f0f4",
   "metadata": {},
   "source": [
    "Division"
   ]
  },
  {
   "cell_type": "code",
   "execution_count": 12,
   "id": "44ff0e57-0b07-4d52-a2c6-8e477143a855",
   "metadata": {},
   "outputs": [
    {
     "name": "stdin",
     "output_type": "stream",
     "text": [
      "Enter a number 76\n",
      "Enter a number 31\n"
     ]
    },
    {
     "name": "stdout",
     "output_type": "stream",
     "text": [
      "76\n",
      "31\n",
      "Division 2.4516129032258065\n"
     ]
    }
   ],
   "source": [
    "a=int(input(\"Enter a number\"))\n",
    "b=int(input(\"Enter a number\"))\n",
    "div=a/b\n",
    "print(a)\n",
    "print(b)\n",
    "print(\"Division\",div)"
   ]
  },
  {
   "cell_type": "markdown",
   "id": "7bc76565-abfa-4263-8b5f-e7a5d5511e70",
   "metadata": {},
   "source": [
    "Floor Division"
   ]
  },
  {
   "cell_type": "code",
   "execution_count": 11,
   "id": "82a5311d-d270-4724-ad6c-48cb568a6b37",
   "metadata": {},
   "outputs": [
    {
     "name": "stdin",
     "output_type": "stream",
     "text": [
      "Enter a number 76\n",
      "Enter a number 31\n"
     ]
    },
    {
     "name": "stdout",
     "output_type": "stream",
     "text": [
      "76\n",
      "31\n",
      "floor div 2\n"
     ]
    }
   ],
   "source": [
    "a=int(input(\"Enter a number\"))\n",
    "b=int(input(\"Enter a number\"))\n",
    "floordiv=a//b\n",
    "print(a)\n",
    "print(b)\n",
    "print(\"floor div\",floordiv)"
   ]
  },
  {
   "cell_type": "markdown",
   "id": "d4cead57-7851-4aea-92a1-c2544c7e3a7e",
   "metadata": {},
   "source": [
    "Moduls"
   ]
  },
  {
   "cell_type": "code",
   "execution_count": 13,
   "id": "9d28a28c-6fa8-4bcf-834d-7963da985160",
   "metadata": {},
   "outputs": [
    {
     "name": "stdin",
     "output_type": "stream",
     "text": [
      "Enter a number 76\n",
      "Enter a number 31\n"
     ]
    },
    {
     "name": "stdout",
     "output_type": "stream",
     "text": [
      "76\n",
      "31\n",
      "modules 14\n"
     ]
    }
   ],
   "source": [
    "a=int(input(\"Enter a number\"))\n",
    "b=int(input(\"Enter a number\"))\n",
    "mol=a%b\n",
    "print(a)\n",
    "print(b)\n",
    "print(\"modules\",mol)"
   ]
  },
  {
   "cell_type": "markdown",
   "id": "9a2f1d1f-6463-4f1e-9c5a-5fc80cfc92d4",
   "metadata": {},
   "source": [
    "Power"
   ]
  },
  {
   "cell_type": "code",
   "execution_count": 14,
   "id": "b567103d-2672-4ad1-8c87-d3147e150063",
   "metadata": {},
   "outputs": [
    {
     "name": "stdin",
     "output_type": "stream",
     "text": [
      "Enter a number 4\n",
      "Enter a number 4\n"
     ]
    },
    {
     "name": "stdout",
     "output_type": "stream",
     "text": [
      "power 256\n"
     ]
    }
   ],
   "source": [
    "a=int(input(\"Enter a number\"))\n",
    "b=int(input(\"Enter a number\"))\n",
    "power=a**b\n",
    "print(\"power\",power)"
   ]
  },
  {
   "cell_type": "code",
   "execution_count": null,
   "id": "e6a23acd-ffe0-4c8f-92e3-9047cda83c4e",
   "metadata": {},
   "outputs": [],
   "source": []
  }
 ],
 "metadata": {
  "kernelspec": {
   "display_name": "Python 3 (ipykernel)",
   "language": "python",
   "name": "python3"
  },
  "language_info": {
   "codemirror_mode": {
    "name": "ipython",
    "version": 3
   },
   "file_extension": ".py",
   "mimetype": "text/x-python",
   "name": "python",
   "nbconvert_exporter": "python",
   "pygments_lexer": "ipython3",
   "version": "3.12.7"
  }
 },
 "nbformat": 4,
 "nbformat_minor": 5
}
