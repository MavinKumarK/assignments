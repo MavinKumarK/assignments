{
 "cells": [
  {
   "cell_type": "code",
   "execution_count": 1,
   "id": "041ebe11-bef9-40f3-b655-74adeb2956a7",
   "metadata": {},
   "outputs": [],
   "source": [
    "#load pickle libary\n",
    "import pickle"
   ]
  },
  {
   "cell_type": "code",
   "execution_count": 2,
   "id": "01d24e33-8562-4c69-a8a5-582c0935a7b9",
   "metadata": {},
   "outputs": [
    {
     "name": "stderr",
     "output_type": "stream",
     "text": [
      "C:\\ProgramData\\anaconda3\\Lib\\site-packages\\sklearn\\base.py:493: UserWarning: X does not have valid feature names, but LinearRegression was fitted with feature names\n",
      "  warnings.warn(\n"
     ]
    }
   ],
   "source": [
    "#read the loaded file and check the predicted output\n",
    "loaded_model=pickle.load(open(\"finalized_model_linear.sav\",'rb'))\n",
    "result=loaded_model.predict([[10]])"
   ]
  },
  {
   "cell_type": "markdown",
   "id": "aaf52377-a4bb-4037-918c-fb64e2df23ab",
   "metadata": {},
   "source": [
    "result"
   ]
  },
  {
   "cell_type": "code",
   "execution_count": 3,
   "id": "129af833-aaca-4953-b89d-3f4f9b8f190b",
   "metadata": {},
   "outputs": [
    {
     "data": {
      "text/plain": [
       "array([[120380.00420313]])"
      ]
     },
     "execution_count": 3,
     "metadata": {},
     "output_type": "execute_result"
    }
   ],
   "source": [
    "result"
   ]
  },
  {
   "cell_type": "code",
   "execution_count": null,
   "id": "e3dcf8bd-221f-41df-ad50-e307f5ba0145",
   "metadata": {},
   "outputs": [],
   "source": []
  }
 ],
 "metadata": {
  "kernelspec": {
   "display_name": "Python 3 (ipykernel)",
   "language": "python",
   "name": "python3"
  },
  "language_info": {
   "codemirror_mode": {
    "name": "ipython",
    "version": 3
   },
   "file_extension": ".py",
   "mimetype": "text/x-python",
   "name": "python",
   "nbconvert_exporter": "python",
   "pygments_lexer": "ipython3",
   "version": "3.12.7"
  }
 },
 "nbformat": 4,
 "nbformat_minor": 5
}
