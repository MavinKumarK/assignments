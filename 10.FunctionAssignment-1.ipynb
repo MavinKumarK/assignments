{
 "cells": [
  {
   "cell_type": "markdown",
   "id": "68b62977-69f2-47d4-9fb8-03c42c2ee183",
   "metadata": {},
   "source": [
    "create a class and function and list out the items in the list"
   ]
  },
  {
   "cell_type": "code",
   "execution_count": 4,
   "id": "ddb69edb-0080-4842-8590-be5a5e8293de",
   "metadata": {},
   "outputs": [
    {
     "name": "stdout",
     "output_type": "stream",
     "text": [
      "Sub-Fields in AI are:\n",
      "['Machine Learning', 'neural Networks', 'Vision', 'Robotics', 'Speech Processing', 'Natural Language Processing']\n",
      "Machine Learning\n",
      "neural Networks\n",
      "Vision\n",
      "Robotics\n",
      "Speech Processing\n",
      "Natural Language Processing\n"
     ]
    }
   ],
   "source": [
    "class subfield():\n",
    "    def SubfieldsInAI():\n",
    "        lists=[\"Machine Learning\",\"neural Networks\",\"Vision\",\"Robotics\",\"Speech Processing\",\"Natural Language Processing\"]\n",
    "        print(\"Sub-Fields in AI are:\")\n",
    "        print(lists)\n",
    "        for i in lists:\n",
    "            print(i)\n",
    "subfield.SubfieldsInAI()       "
   ]
  },
  {
   "cell_type": "markdown",
   "id": "e45f96a2-5e71-458f-b96b-ed96b8d587e9",
   "metadata": {},
   "source": [
    "create a function that checks whether the given number is odd or even"
   ]
  },
  {
   "cell_type": "code",
   "execution_count": 15,
   "id": "d1a18630-8e3d-44de-84f2-9160a2b7112b",
   "metadata": {},
   "outputs": [
    {
     "name": "stdin",
     "output_type": "stream",
     "text": [
      "Enter any number 88\n"
     ]
    },
    {
     "name": "stdout",
     "output_type": "stream",
     "text": [
      "Even number\n",
      "Even Number\n"
     ]
    }
   ],
   "source": [
    "class ODDEVEN():\n",
    "    def oddeven():\n",
    "        num=int(input(\"Enter any number\"))\n",
    "        if(num%2==0):\n",
    "            print(\"Even number\")\n",
    "            message=\"Even Number\"\n",
    "        else:\n",
    "            print(\"odd number\")\n",
    "            message=\"Odd Number\"\n",
    "        return message\n",
    "       # if(message==\"Odd Number\"):\n",
    "        #    print(\"ODD NUMBER\")\n",
    "        #else:\n",
    "         #   print(\"EVEN NUMBER\")\n",
    "odd=ODDEVEN.oddeven()\n",
    "print(odd)"
   ]
  },
  {
   "cell_type": "markdown",
   "id": "ec414414-1ce1-41fa-8fd3-a4016442c93f",
   "metadata": {},
   "source": [
    "create a function that tells elegibility of  marriage male and female according to their\n",
    "age limit like 21for malr and 18 for female "
   ]
  },
  {
   "cell_type": "code",
   "execution_count": 24,
   "id": "29199d6f-f31a-4890-a528-610382219d15",
   "metadata": {},
   "outputs": [
    {
     "name": "stdin",
     "output_type": "stream",
     "text": [
      "Enter your name MAVIN\n",
      "Enter your gender: MALE or FEMALE MALE\n",
      "enter your age 18\n"
     ]
    },
    {
     "name": "stdout",
     "output_type": "stream",
     "text": [
      "You are wait for  3 years\n"
     ]
    }
   ],
   "source": [
    "class ElegiblityForMarriage():\n",
    "    def elegible():\n",
    "        name=input(\"Enter your name\")\n",
    "        gender=input(\"Enter your gender: MALE or FEMALE\")\n",
    "        age=int(input(\"enter your age\"))\n",
    "        if(gender=='MALE'):\n",
    "            if(age>=21):\n",
    "                print(\"you are ELEGIBLE to Marriage\")\n",
    "            else:\n",
    "                ag=21-age\n",
    "                print(\"You are wait for \",ag,\"years\")\n",
    "        elif(gender=='FEMALE'):\n",
    "            if(age>=18):\n",
    "                print(\"You are ELEGIBLE to Marriage\")\n",
    "            else:\n",
    "                ag=18-age\n",
    "                print(\"you are wait for \",ag,\"marriage\")\n",
    "        else:\n",
    "            print(\"pls enter a correct format your gender\")\n",
    "ElegiblityForMarriage.elegible()"
   ]
  },
  {
   "cell_type": "markdown",
   "id": "e7c84dcf-e106-49d9-95d6-6021beb93f62",
   "metadata": {},
   "source": [
    "calculate the percentage of jyour 10th mark"
   ]
  },
  {
   "cell_type": "code",
   "execution_count": 31,
   "id": "bdb32212-5113-416c-9727-aa9bfce3ad5a",
   "metadata": {},
   "outputs": [
    {
     "name": "stdin",
     "output_type": "stream",
     "text": [
      "Enter your TAMIL mark 90\n",
      "Enter your ENGLISH mark 90\n",
      "Enter your MATHS mark 90\n",
      "Enter your SCIENCE mark 90\n",
      "Enter your SOCIAL SCIENCE mark 90\n"
     ]
    },
    {
     "name": "stdout",
     "output_type": "stream",
     "text": [
      "Total:  450\n",
      "percentage: 90.0\n"
     ]
    }
   ],
   "source": [
    "class findpercent():\n",
    "    def percentage():\n",
    "        tamil=int(input(\"Enter your TAMIL mark\"))\n",
    "        english=int(input(\"Enter your ENGLISH mark\"))\n",
    "        maths=int(input(\"Enter your MATHS mark\"))\n",
    "        science=int(input(\"Enter your SCIENCE mark\"))\n",
    "        socialScience=int(input(\"Enter your SOCIAL SCIENCE mark\"))\n",
    "        total=tamil+english+maths+science+socialScience\n",
    "        if(tamil,english,maths,science,socialScience>35):\n",
    "            print(\"Total: \",total)\n",
    "            print(\"percentage:\",total/5)\n",
    "\n",
    "findpercent.percentage()"
   ]
  },
  {
   "cell_type": "markdown",
   "id": "34f7baa2-9685-4977-992f-84e46612de81",
   "metadata": {},
   "source": [
    "print area and perimeter of triangle using class and function\n",
    "area of triangle formula : (height*Breadth)/2\n",
    "Perimeter formula : height1+height2+Breadth"
   ]
  },
  {
   "cell_type": "code",
   "execution_count": 42,
   "id": "e5583083-7920-4bae-8373-4aeacf13c738",
   "metadata": {},
   "outputs": [],
   "source": [
    "class triangleandperimeter():\n",
    "    def triangle():\n",
    "        height=int(input(\"Enter Height \"))\n",
    "        breadth=int(input(\"enter Breadth \"))\n",
    "        triangle=(height*breadth)/2\n",
    "        return triangle\n",
    "    def perimeter():\n",
    "        height1=int(input(\"Enter Height1 \"))\n",
    "        height2=int(input(\"Enter Height2 \" ))\n",
    "        breadth=int(input(\"Enter breadth \"))\n",
    "        perimeter=height1+height2+breadth\n",
    "        return perimeter"
   ]
  },
  {
   "cell_type": "code",
   "execution_count": 43,
   "id": "7e77a9cf-ff64-42b5-83a6-08973ada4339",
   "metadata": {},
   "outputs": [
    {
     "name": "stdout",
     "output_type": "stream",
     "text": [
      "do you want calculcate area of triangle press 1\n",
      "do you want calculate perimeterr of triangle press 2\n"
     ]
    },
    {
     "name": "stdin",
     "output_type": "stream",
     "text": [
      "Enter your choice  2\n",
      "Enter Height1  24\n",
      "Enter Height2  24\n",
      "Enter breadth  3\n"
     ]
    }
   ],
   "source": [
    "print(\"do you want calculcate area of triangle press 1\\ndo you want calculate perimeterr of triangle press 2\")\n",
    "a=int(input(\"Enter your choice \"))\n",
    "if(a==1):\n",
    "    triangleandperimeter.triangle()\n",
    "elif(a==2):\n",
    "    triangleandperimeter.perimeter()\n",
    "else:\n",
    "    print(\"pls enter only 1 or 2 choice\")"
   ]
  },
  {
   "cell_type": "code",
   "execution_count": null,
   "id": "89ce16e8-1e99-44d2-80d5-f1074326a90c",
   "metadata": {},
   "outputs": [],
   "source": []
  }
 ],
 "metadata": {
  "kernelspec": {
   "display_name": "Python 3 (ipykernel)",
   "language": "python",
   "name": "python3"
  },
  "language_info": {
   "codemirror_mode": {
    "name": "ipython",
    "version": 3
   },
   "file_extension": ".py",
   "mimetype": "text/x-python",
   "name": "python",
   "nbconvert_exporter": "python",
   "pygments_lexer": "ipython3",
   "version": "3.12.7"
  }
 },
 "nbformat": 4,
 "nbformat_minor": 5
}
