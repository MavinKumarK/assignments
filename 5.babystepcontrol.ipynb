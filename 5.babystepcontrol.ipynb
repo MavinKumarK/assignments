{
 "cells": [
  {
   "cell_type": "code",
   "execution_count": 1,
   "id": "d7afdec2-2e2b-4918-8088-c7df8e93b4d9",
   "metadata": {},
   "outputs": [
    {
     "name": "stdout",
     "output_type": "stream",
     "text": [
      "Welcome to Assignment-1\n"
     ]
    }
   ],
   "source": [
    "print(\"Welcome to Assignment-1\")"
   ]
  },
  {
   "cell_type": "code",
   "execution_count": 3,
   "id": "495adcde-4ace-4b6d-b2af-07f4d4bfa78d",
   "metadata": {},
   "outputs": [
    {
     "name": "stdin",
     "output_type": "stream",
     "text": [
      "Enter a number1 10\n",
      "Enter a number2 20\n"
     ]
    },
    {
     "name": "stdout",
     "output_type": "stream",
     "text": [
      "num1= 10\n",
      "num2= 20\n",
      "add 30\n"
     ]
    }
   ],
   "source": [
    "num1=int(input(\"Enter a number1\"))\n",
    "num2=int(input(\"Enter a number2\"))\n",
    "add=num1+num2\n",
    "print(\"num1=\",num1)\n",
    "print(\"num2=\",num2)\n",
    "print(\"add\",add)"
   ]
  },
  {
   "cell_type": "markdown",
   "id": "17252cbb-b922-4bd4-9830-72c02ba0cb29",
   "metadata": {},
   "source": [
    "body mass index\n",
    "\n",
    "<18.5           -       under weghit\n",
    "18.5 - 24.9     -       normal weghit\n",
    "25 - 29.9       -       over weghit\n",
    "30.0 - 34.9     -       obesity class1\n",
    "35.0 - 39.9     -       obesity class2\n",
    "40above         -       obesity class3"
   ]
  },
  {
   "cell_type": "code",
   "execution_count": 13,
   "id": "b390bc53-2491-4bed-95a6-9d82aa6313a0",
   "metadata": {},
   "outputs": [
    {
     "name": "stdin",
     "output_type": "stream",
     "text": [
      "enter your weghit 11\n"
     ]
    },
    {
     "name": "stdout",
     "output_type": "stream",
     "text": [
      "Under Weghit\n"
     ]
    }
   ],
   "source": [
    "weghit=int(input(\"enter your weghit\"))\n",
    "if(weghit<18.5):\n",
    "    print(\"Under Weghit\")\n",
    "elif(weghit<=24.5):\n",
    "    print(\"Normal Weghit\")\n",
    "elif(weghit<29.5):\n",
    "    print(\"Over weghit\")\n",
    "elif(weghit>30):\n",
    "    if(weghit<34.9):\n",
    "        print(\"Obesity Class1\")\n",
    "    elif(weghit<39.9):\n",
    "        print(\"Obesity Class2\")\n",
    "    else:\n",
    "        print(\"Obesity Class3\")\n",
    "else:\n",
    "    print(\"pls enter a integer value\")\n",
    "\n",
    "    "
   ]
  },
  {
   "cell_type": "code",
   "execution_count": null,
   "id": "8eed5382-919b-44b6-b113-b69b59ff5a72",
   "metadata": {},
   "outputs": [],
   "source": []
  }
 ],
 "metadata": {
  "kernelspec": {
   "display_name": "Python 3 (ipykernel)",
   "language": "python",
   "name": "python3"
  },
  "language_info": {
   "codemirror_mode": {
    "name": "ipython",
    "version": 3
   },
   "file_extension": ".py",
   "mimetype": "text/x-python",
   "name": "python",
   "nbconvert_exporter": "python",
   "pygments_lexer": "ipython3",
   "version": "3.12.7"
  }
 },
 "nbformat": 4,
 "nbformat_minor": 5
}
